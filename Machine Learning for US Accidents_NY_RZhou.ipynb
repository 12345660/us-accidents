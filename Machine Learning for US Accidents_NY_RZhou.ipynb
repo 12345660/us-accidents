{
 "cells": [
  {
   "cell_type": "markdown",
   "metadata": {},
   "source": [
    "# How you can drive safely in 2020\n",
    "\n",
    "\n",
    "### Use LR/KNN/Decision Tree/Random Forest classification algorithms from sklearn to predict the accident severity\n",
    "\n",
    "Due to the limit of computer capacity, I am focusing on the State of New York. I will only select a few features I believe are more relavant to severity. Categorical data will be treated with Pandas get_dummies method. Rows with missing values will be dropped.\n",
    "\n",
    "### Data source\n",
    "https://www.kaggle.com/sobhanmoosavi/us-accidents\n",
    "\n",
    "\n",
    "### Acknowledgements\n",
    "\n",
    "Moosavi, Sobhan, Mohammad Hossein Samavatian, Srinivasan Parthasarathy, and Rajiv Ramnath. “A Countrywide Traffic Accident Dataset.”, 2019.\n",
    "\n",
    "Moosavi, Sobhan, Mohammad Hossein Samavatian, Srinivasan Parthasarathy, Radu Teodorescu, and Rajiv Ramnath. \"Accident Risk Prediction based on Heterogeneous Sparse Data: New Dataset and Insights.\" In proceedings of the 27th ACM SIGSPATIAL International Conference on Advances in Geographic Information Systems, ACM, 2019.\n",
    "\n",
    "\n",
    "####  Author\n",
    "Ronghui Zhou, zhou.uf@gmail.com\n",
    "https://github.com/RonghuiZhou"
   ]
  },
  {
   "cell_type": "markdown",
   "metadata": {},
   "source": [
    "### Step 1. Import libraries"
   ]
  },
  {
   "cell_type": "code",
   "execution_count": 1,
   "metadata": {
    "scrolled": true
   },
   "outputs": [],
   "source": [
    "# Import numpy, pandas, matpltlib.pyplot, sklearn modules and seaborn\n",
    "import numpy as np\n",
    "import pandas as pd\n",
    "import matplotlib.pyplot as plt\n",
    "import seaborn as sns\n",
    "%matplotlib inline\n",
    "pd.set_option('display.max_rows', 200)\n",
    "pd.set_option('display.max_columns', 200)\n",
    "plt.style.use('ggplot')\n",
    "\n",
    "# Import KNeighborsClassifier from sklearn.neighbors\n",
    "from sklearn.neighbors import KNeighborsClassifier\n",
    "\n",
    "# Import DecisionTreeClassifier from sklearn.tree\n",
    "from sklearn.tree import DecisionTreeClassifier\n",
    "\n",
    "# Import RandomForestClassifier\n",
    "from sklearn.ensemble import RandomForestClassifier\n",
    "\n",
    "# Import LogisticRegression\n",
    "from sklearn.linear_model import LogisticRegression\n",
    "\n",
    "from sklearn.model_selection import train_test_split\n",
    "from sklearn.model_selection import GridSearchCV\n",
    "from sklearn.feature_selection import SelectFromModel\n",
    "from sklearn.metrics import classification_report\n",
    "from sklearn.metrics import confusion_matrix\n",
    "from sklearn.metrics import accuracy_score\n",
    "from sklearn.metrics import roc_curve, auc"
   ]
  },
  {
   "cell_type": "markdown",
   "metadata": {},
   "source": [
    "### Step 2. Import the dataset"
   ]
  },
  {
   "cell_type": "code",
   "execution_count": 2,
   "metadata": {
    "scrolled": false
   },
   "outputs": [
    {
     "name": "stdout",
     "output_type": "stream",
     "text": [
      "<class 'pandas.core.frame.DataFrame'>\n",
      "RangeIndex: 2243939 entries, 0 to 2243938\n",
      "Data columns (total 49 columns):\n",
      "ID                       object\n",
      "Source                   object\n",
      "TMC                      float64\n",
      "Severity                 int64\n",
      "Start_Time               object\n",
      "End_Time                 object\n",
      "Start_Lat                float64\n",
      "Start_Lng                float64\n",
      "End_Lat                  float64\n",
      "End_Lng                  float64\n",
      "Distance(mi)             float64\n",
      "Description              object\n",
      "Number                   float64\n",
      "Street                   object\n",
      "Side                     object\n",
      "City                     object\n",
      "County                   object\n",
      "State                    object\n",
      "Zipcode                  object\n",
      "Country                  object\n",
      "Timezone                 object\n",
      "Airport_Code             object\n",
      "Weather_Timestamp        object\n",
      "Temperature(F)           float64\n",
      "Wind_Chill(F)            float64\n",
      "Humidity(%)              float64\n",
      "Pressure(in)             float64\n",
      "Visibility(mi)           float64\n",
      "Wind_Direction           object\n",
      "Wind_Speed(mph)          float64\n",
      "Precipitation(in)        float64\n",
      "Weather_Condition        object\n",
      "Amenity                  bool\n",
      "Bump                     bool\n",
      "Crossing                 bool\n",
      "Give_Way                 bool\n",
      "Junction                 bool\n",
      "No_Exit                  bool\n",
      "Railway                  bool\n",
      "Roundabout               bool\n",
      "Station                  bool\n",
      "Stop                     bool\n",
      "Traffic_Calming          bool\n",
      "Traffic_Signal           bool\n",
      "Turning_Loop             bool\n",
      "Sunrise_Sunset           object\n",
      "Civil_Twilight           object\n",
      "Nautical_Twilight        object\n",
      "Astronomical_Twilight    object\n",
      "dtypes: bool(13), float64(14), int64(1), object(21)\n",
      "memory usage: 644.1+ MB\n"
     ]
    }
   ],
   "source": [
    "# Import the data\n",
    "df = pd.read_csv('./US_Accidents_May19.csv')\n",
    "df.info()"
   ]
  },
  {
   "cell_type": "markdown",
   "metadata": {},
   "source": [
    "### Step 3. Extract year, month, day, hour, weekday, and time to clear accidents"
   ]
  },
  {
   "cell_type": "code",
   "execution_count": 3,
   "metadata": {
    "scrolled": true
   },
   "outputs": [
    {
     "name": "stdout",
     "output_type": "stream",
     "text": [
      "<class 'pandas.core.frame.DataFrame'>\n",
      "RangeIndex: 2243939 entries, 0 to 2243938\n",
      "Data columns (total 55 columns):\n",
      "ID                       object\n",
      "Source                   object\n",
      "TMC                      float64\n",
      "Severity                 int64\n",
      "Start_Time               datetime64[ns]\n",
      "End_Time                 datetime64[ns]\n",
      "Start_Lat                float64\n",
      "Start_Lng                float64\n",
      "End_Lat                  float64\n",
      "End_Lng                  float64\n",
      "Distance(mi)             float64\n",
      "Description              object\n",
      "Number                   float64\n",
      "Street                   object\n",
      "Side                     object\n",
      "City                     object\n",
      "County                   object\n",
      "State                    object\n",
      "Zipcode                  object\n",
      "Country                  object\n",
      "Timezone                 object\n",
      "Airport_Code             object\n",
      "Weather_Timestamp        object\n",
      "Temperature(F)           float64\n",
      "Wind_Chill(F)            float64\n",
      "Humidity(%)              float64\n",
      "Pressure(in)             float64\n",
      "Visibility(mi)           float64\n",
      "Wind_Direction           object\n",
      "Wind_Speed(mph)          float64\n",
      "Precipitation(in)        float64\n",
      "Weather_Condition        object\n",
      "Amenity                  bool\n",
      "Bump                     bool\n",
      "Crossing                 bool\n",
      "Give_Way                 bool\n",
      "Junction                 bool\n",
      "No_Exit                  bool\n",
      "Railway                  bool\n",
      "Roundabout               bool\n",
      "Station                  bool\n",
      "Stop                     bool\n",
      "Traffic_Calming          bool\n",
      "Traffic_Signal           bool\n",
      "Turning_Loop             bool\n",
      "Sunrise_Sunset           object\n",
      "Civil_Twilight           object\n",
      "Nautical_Twilight        object\n",
      "Astronomical_Twilight    object\n",
      "Year                     int64\n",
      "Month                    object\n",
      "Day                      int64\n",
      "Hour                     int64\n",
      "Weekday                  object\n",
      "Time_Duration(min)       float64\n",
      "dtypes: bool(13), datetime64[ns](2), float64(15), int64(4), object(21)\n",
      "memory usage: 746.9+ MB\n"
     ]
    }
   ],
   "source": [
    "# Convert Start_Time and End_Time to datetypes\n",
    "df['Start_Time'] = pd.to_datetime(df['Start_Time'], errors='coerce')\n",
    "df['End_Time'] = pd.to_datetime(df['End_Time'], errors='coerce')\n",
    "\n",
    "# Extract year, month, day, hour and weekday\n",
    "df['Year']=df['Start_Time'].dt.year\n",
    "df['Month']=df['Start_Time'].dt.strftime('%b')\n",
    "df['Day']=df['Start_Time'].dt.day\n",
    "df['Hour']=df['Start_Time'].dt.hour\n",
    "df['Weekday']=df['Start_Time'].dt.strftime('%a')\n",
    "\n",
    "# Extract the amount of time in the unit of minutes for each accident, round to the nearest integer\n",
    "td='Time_Duration(min)'\n",
    "df[td]=round((df['End_Time']-df['Start_Time'])/np.timedelta64(1,'m'))\n",
    "df.info()"
   ]
  },
  {
   "cell_type": "markdown",
   "metadata": {},
   "source": [
    "### Step 4. Deal with outliers\n",
    "\n",
    "#### A. Drop rows with severity-0"
   ]
  },
  {
   "cell_type": "code",
   "execution_count": 4,
   "metadata": {},
   "outputs": [],
   "source": [
    "df=df[df.Severity != 0]"
   ]
  },
  {
   "cell_type": "markdown",
   "metadata": {},
   "source": [
    "### Step 4. Deal with outliers\n",
    "\n",
    "#### B. Drop rows with negative time_duration"
   ]
  },
  {
   "cell_type": "code",
   "execution_count": 5,
   "metadata": {},
   "outputs": [
    {
     "data": {
      "text/plain": [
       "69720      -0.0\n",
       "69721      -0.0\n",
       "69722      -0.0\n",
       "69723      -1.0\n",
       "69724      -1.0\n",
       "309389    -30.0\n",
       "309390    -30.0\n",
       "746173    -30.0\n",
       "746174    -31.0\n",
       "1482940   -30.0\n",
       "1483025   -30.0\n",
       "1483026   -31.0\n",
       "2038017   -31.0\n",
       "Name: Time_Duration(min), dtype: float64"
      ]
     },
     "execution_count": 5,
     "metadata": {},
     "output_type": "execute_result"
    }
   ],
   "source": [
    "# Check if there is any negative time_duration values\n",
    "df[td][df[td]<=0]"
   ]
  },
  {
   "cell_type": "code",
   "execution_count": 6,
   "metadata": {},
   "outputs": [
    {
     "name": "stdout",
     "output_type": "stream",
     "text": [
      "<class 'pandas.core.frame.DataFrame'>\n",
      "Int64Index: 2243909 entries, 0 to 2243938\n",
      "Data columns (total 55 columns):\n",
      "ID                       object\n",
      "Source                   object\n",
      "TMC                      float64\n",
      "Severity                 float64\n",
      "Start_Time               datetime64[ns]\n",
      "End_Time                 datetime64[ns]\n",
      "Start_Lat                float64\n",
      "Start_Lng                float64\n",
      "End_Lat                  float64\n",
      "End_Lng                  float64\n",
      "Distance(mi)             float64\n",
      "Description              object\n",
      "Number                   float64\n",
      "Street                   object\n",
      "Side                     object\n",
      "City                     object\n",
      "County                   object\n",
      "State                    object\n",
      "Zipcode                  object\n",
      "Country                  object\n",
      "Timezone                 object\n",
      "Airport_Code             object\n",
      "Weather_Timestamp        object\n",
      "Temperature(F)           float64\n",
      "Wind_Chill(F)            float64\n",
      "Humidity(%)              float64\n",
      "Pressure(in)             float64\n",
      "Visibility(mi)           float64\n",
      "Wind_Direction           object\n",
      "Wind_Speed(mph)          float64\n",
      "Precipitation(in)        float64\n",
      "Weather_Condition        object\n",
      "Amenity                  float64\n",
      "Bump                     float64\n",
      "Crossing                 float64\n",
      "Give_Way                 float64\n",
      "Junction                 float64\n",
      "No_Exit                  float64\n",
      "Railway                  float64\n",
      "Roundabout               float64\n",
      "Station                  float64\n",
      "Stop                     float64\n",
      "Traffic_Calming          float64\n",
      "Traffic_Signal           float64\n",
      "Turning_Loop             float64\n",
      "Sunrise_Sunset           object\n",
      "Civil_Twilight           object\n",
      "Nautical_Twilight        object\n",
      "Astronomical_Twilight    object\n",
      "Year                     float64\n",
      "Month                    object\n",
      "Day                      float64\n",
      "Hour                     float64\n",
      "Weekday                  object\n",
      "Time_Duration(min)       float64\n",
      "dtypes: datetime64[ns](2), float64(32), object(21)\n",
      "memory usage: 958.7+ MB\n"
     ]
    }
   ],
   "source": [
    "# Drop the rows with td<0\n",
    "\n",
    "neg_outliers=df[td]<=0\n",
    "\n",
    "# Set outliers to NAN\n",
    "df[neg_outliers] = np.nan\n",
    "\n",
    "# Drop rows with negative td\n",
    "df.dropna(subset=[td],axis=0,inplace=True)\n",
    "\n",
    "df.info()"
   ]
  },
  {
   "cell_type": "code",
   "execution_count": 7,
   "metadata": {},
   "outputs": [
    {
     "data": {
      "text/plain": [
       "Series([], Name: Time_Duration(min), dtype: float64)"
      ]
     },
     "execution_count": 7,
     "metadata": {},
     "output_type": "execute_result"
    }
   ],
   "source": [
    "# Double check to make sure no more negative td\n",
    "df[td][df[td]<=0]"
   ]
  },
  {
   "cell_type": "markdown",
   "metadata": {},
   "source": [
    "### Step 4. Deal with outliers\n",
    "\n",
    "#### C. Fill outliers with median values"
   ]
  },
  {
   "cell_type": "code",
   "execution_count": 8,
   "metadata": {},
   "outputs": [
    {
     "name": "stdout",
     "output_type": "stream",
     "text": [
      "<class 'pandas.core.frame.DataFrame'>\n",
      "Int64Index: 2243909 entries, 0 to 2243938\n",
      "Data columns (total 55 columns):\n",
      "ID                       object\n",
      "Source                   object\n",
      "TMC                      float64\n",
      "Severity                 float64\n",
      "Start_Time               datetime64[ns]\n",
      "End_Time                 datetime64[ns]\n",
      "Start_Lat                float64\n",
      "Start_Lng                float64\n",
      "End_Lat                  float64\n",
      "End_Lng                  float64\n",
      "Distance(mi)             float64\n",
      "Description              object\n",
      "Number                   float64\n",
      "Street                   object\n",
      "Side                     object\n",
      "City                     object\n",
      "County                   object\n",
      "State                    object\n",
      "Zipcode                  object\n",
      "Country                  object\n",
      "Timezone                 object\n",
      "Airport_Code             object\n",
      "Weather_Timestamp        object\n",
      "Temperature(F)           float64\n",
      "Wind_Chill(F)            float64\n",
      "Humidity(%)              float64\n",
      "Pressure(in)             float64\n",
      "Visibility(mi)           float64\n",
      "Wind_Direction           object\n",
      "Wind_Speed(mph)          float64\n",
      "Precipitation(in)        float64\n",
      "Weather_Condition        object\n",
      "Amenity                  float64\n",
      "Bump                     float64\n",
      "Crossing                 float64\n",
      "Give_Way                 float64\n",
      "Junction                 float64\n",
      "No_Exit                  float64\n",
      "Railway                  float64\n",
      "Roundabout               float64\n",
      "Station                  float64\n",
      "Stop                     float64\n",
      "Traffic_Calming          float64\n",
      "Traffic_Signal           float64\n",
      "Turning_Loop             float64\n",
      "Sunrise_Sunset           object\n",
      "Civil_Twilight           object\n",
      "Nautical_Twilight        object\n",
      "Astronomical_Twilight    object\n",
      "Year                     float64\n",
      "Month                    object\n",
      "Day                      float64\n",
      "Hour                     float64\n",
      "Weekday                  object\n",
      "Time_Duration(min)       float64\n",
      "dtypes: datetime64[ns](2), float64(32), object(21)\n",
      "memory usage: 958.7+ MB\n"
     ]
    }
   ],
   "source": [
    "# Remove outliers for Time_Duration(min): n * standard_deviation (n=3), backfill with median\n",
    "\n",
    "n=3\n",
    "\n",
    "median = df[td].median()\n",
    "std = df[td].std()\n",
    "outliers = (df[td] - median).abs() > std*n\n",
    "\n",
    "# Set outliers to NAN\n",
    "df[outliers] = np.nan\n",
    "\n",
    "# Fill NAN with median\n",
    "df[td].fillna(median, inplace=True)\n",
    "df.info()"
   ]
  },
  {
   "cell_type": "code",
   "execution_count": 9,
   "metadata": {},
   "outputs": [
    {
     "name": "stdout",
     "output_type": "stream",
     "text": [
      "Max time to clear an accident: 12424.0 minutes or 207 hours or 9 days; Min to clear an accident td: 1.0 minutes.\n"
     ]
    }
   ],
   "source": [
    "# Print time_duration information\n",
    "print('Max time to clear an accident: {} minutes or {} hours or {} days; Min to clear an accident td: {} minutes.'.format(df[td].max(),round(df[td].max()/60), round(df[td].max()/60/24), df[td].min()))"
   ]
  },
  {
   "cell_type": "code",
   "execution_count": 10,
   "metadata": {},
   "outputs": [],
   "source": [
    "# Export the data\n",
    "# df.to_csv('./US_Accidents_May19_clean.csv',index=False)"
   ]
  },
  {
   "cell_type": "markdown",
   "metadata": {},
   "source": [
    "### Step 5. Select a list of features for machine learning algorithms\n",
    "\n",
    " Only select relavant columns without overwhelming the computer"
   ]
  },
  {
   "cell_type": "code",
   "execution_count": 11,
   "metadata": {},
   "outputs": [],
   "source": [
    "# Set the list of features to include in Machine Learning\n",
    "feature_lst=['Source','TMC','Severity','Start_Lng','Start_Lat','Distance(mi)','Side','City','County','State','Timezone','Temperature(F)','Humidity(%)','Pressure(in)', 'Visibility(mi)', 'Wind_Direction','Weather_Condition','Amenity','Bump','Crossing','Give_Way','Junction','No_Exit','Railway','Roundabout','Station','Stop','Traffic_Calming','Traffic_Signal','Turning_Loop','Sunrise_Sunset','Hour','Weekday', 'Time_Duration(min)']"
   ]
  },
  {
   "cell_type": "code",
   "execution_count": 12,
   "metadata": {
    "scrolled": true
   },
   "outputs": [
    {
     "name": "stdout",
     "output_type": "stream",
     "text": [
      "<class 'pandas.core.frame.DataFrame'>\n",
      "Int64Index: 2243909 entries, 0 to 2243938\n",
      "Data columns (total 34 columns):\n",
      "Source                object\n",
      "TMC                   float64\n",
      "Severity              float64\n",
      "Start_Lng             float64\n",
      "Start_Lat             float64\n",
      "Distance(mi)          float64\n",
      "Side                  object\n",
      "City                  object\n",
      "County                object\n",
      "State                 object\n",
      "Timezone              object\n",
      "Temperature(F)        float64\n",
      "Humidity(%)           float64\n",
      "Pressure(in)          float64\n",
      "Visibility(mi)        float64\n",
      "Wind_Direction        object\n",
      "Weather_Condition     object\n",
      "Amenity               float64\n",
      "Bump                  float64\n",
      "Crossing              float64\n",
      "Give_Way              float64\n",
      "Junction              float64\n",
      "No_Exit               float64\n",
      "Railway               float64\n",
      "Roundabout            float64\n",
      "Station               float64\n",
      "Stop                  float64\n",
      "Traffic_Calming       float64\n",
      "Traffic_Signal        float64\n",
      "Turning_Loop          float64\n",
      "Sunrise_Sunset        object\n",
      "Hour                  float64\n",
      "Weekday               object\n",
      "Time_Duration(min)    float64\n",
      "dtypes: float64(24), object(10)\n",
      "memory usage: 599.2+ MB\n"
     ]
    }
   ],
   "source": [
    "# Select the dataset to include only the selected features\n",
    "df_sel=df[feature_lst].copy()\n",
    "df_sel.info()"
   ]
  },
  {
   "cell_type": "code",
   "execution_count": 13,
   "metadata": {},
   "outputs": [],
   "source": [
    "# Export the data with selected features\n",
    "# df_sel.to_csv('./US_Accidents_May19_clean_sel.csv',index=False)"
   ]
  },
  {
   "cell_type": "markdown",
   "metadata": {},
   "source": [
    "### Step 6. Drop rows with missing values"
   ]
  },
  {
   "cell_type": "code",
   "execution_count": 14,
   "metadata": {},
   "outputs": [
    {
     "data": {
      "text/plain": [
       "Source                0.000217\n",
       "TMC                   0.230303\n",
       "Severity              0.000217\n",
       "Start_Lng             0.000217\n",
       "Start_Lat             0.000217\n",
       "Distance(mi)          0.000217\n",
       "Side                  0.000217\n",
       "City                  0.000248\n",
       "County                0.000217\n",
       "State                 0.000217\n",
       "Timezone              0.001172\n",
       "Temperature(F)        0.027944\n",
       "Humidity(%)           0.028925\n",
       "Pressure(in)          0.025724\n",
       "Visibility(mi)        0.031998\n",
       "Wind_Direction        0.021230\n",
       "Weather_Condition     0.032285\n",
       "Amenity               0.000217\n",
       "Bump                  0.000217\n",
       "Crossing              0.000217\n",
       "Give_Way              0.000217\n",
       "Junction              0.000217\n",
       "No_Exit               0.000217\n",
       "Railway               0.000217\n",
       "Roundabout            0.000217\n",
       "Station               0.000217\n",
       "Stop                  0.000217\n",
       "Traffic_Calming       0.000217\n",
       "Traffic_Signal        0.000217\n",
       "Turning_Loop          0.000217\n",
       "Sunrise_Sunset        0.000252\n",
       "Hour                  0.000217\n",
       "Weekday               0.000217\n",
       "Time_Duration(min)    0.000000\n",
       "dtype: float64"
      ]
     },
     "execution_count": 14,
     "metadata": {},
     "output_type": "execute_result"
    }
   ],
   "source": [
    "# Check missing values\n",
    "df_sel.isnull().mean()"
   ]
  },
  {
   "cell_type": "code",
   "execution_count": 15,
   "metadata": {
    "scrolled": true
   },
   "outputs": [
    {
     "data": {
      "text/plain": [
       "(1663614, 34)"
      ]
     },
     "execution_count": 15,
     "metadata": {},
     "output_type": "execute_result"
    }
   ],
   "source": [
    "df_sel.dropna(subset=df_sel.columns[df_sel.isnull().mean()!=0], how='any', axis=0, inplace=True)\n",
    "df_sel.shape"
   ]
  },
  {
   "cell_type": "code",
   "execution_count": 16,
   "metadata": {},
   "outputs": [],
   "source": [
    "# Export the data with selected features\n",
    "# df_sel.to_csv('./US_Accidents_May19_clean_sel_dropna.csv',index=False)"
   ]
  },
  {
   "cell_type": "markdown",
   "metadata": {},
   "source": [
    "### Step 7. Select the state of interest: NY\n",
    "     \n",
    "\n",
    "Due to the limitation of personal laptop, the whole US dataset is too big to handle"
   ]
  },
  {
   "cell_type": "code",
   "execution_count": 17,
   "metadata": {},
   "outputs": [],
   "source": [
    "# Import data if it was already exported based on previous work\n",
    "# df_sel=pd.read_csv('./US_Accidents_May19_clean_sel_dropna.csv')"
   ]
  },
  {
   "cell_type": "code",
   "execution_count": 18,
   "metadata": {
    "scrolled": true
   },
   "outputs": [
    {
     "name": "stdout",
     "output_type": "stream",
     "text": [
      "<class 'pandas.core.frame.DataFrame'>\n",
      "Int64Index: 80119 entries, 194256 to 1724935\n",
      "Data columns (total 33 columns):\n",
      "Source                80119 non-null object\n",
      "TMC                   80119 non-null float64\n",
      "Severity              80119 non-null float64\n",
      "Start_Lng             80119 non-null float64\n",
      "Start_Lat             80119 non-null float64\n",
      "Distance(mi)          80119 non-null float64\n",
      "Side                  80119 non-null object\n",
      "City                  80119 non-null object\n",
      "County                80119 non-null object\n",
      "Timezone              80119 non-null object\n",
      "Temperature(F)        80119 non-null float64\n",
      "Humidity(%)           80119 non-null float64\n",
      "Pressure(in)          80119 non-null float64\n",
      "Visibility(mi)        80119 non-null float64\n",
      "Wind_Direction        80119 non-null object\n",
      "Weather_Condition     80119 non-null object\n",
      "Amenity               80119 non-null float64\n",
      "Bump                  80119 non-null float64\n",
      "Crossing              80119 non-null float64\n",
      "Give_Way              80119 non-null float64\n",
      "Junction              80119 non-null float64\n",
      "No_Exit               80119 non-null float64\n",
      "Railway               80119 non-null float64\n",
      "Roundabout            80119 non-null float64\n",
      "Station               80119 non-null float64\n",
      "Stop                  80119 non-null float64\n",
      "Traffic_Calming       80119 non-null float64\n",
      "Traffic_Signal        80119 non-null float64\n",
      "Turning_Loop          80119 non-null float64\n",
      "Sunrise_Sunset        80119 non-null object\n",
      "Hour                  80119 non-null float64\n",
      "Weekday               80119 non-null object\n",
      "Time_Duration(min)    80119 non-null float64\n",
      "dtypes: float64(24), object(9)\n",
      "memory usage: 20.8+ MB\n"
     ]
    },
    {
     "name": "stderr",
     "output_type": "stream",
     "text": [
      "C:\\Users\\rzhou11\\AppData\\Local\\Continuum\\anaconda3\\lib\\site-packages\\pandas\\core\\frame.py:4102: SettingWithCopyWarning: \n",
      "A value is trying to be set on a copy of a slice from a DataFrame\n",
      "\n",
      "See the caveats in the documentation: http://pandas.pydata.org/pandas-docs/stable/user_guide/indexing.html#returning-a-view-versus-a-copy\n",
      "  errors=errors,\n"
     ]
    }
   ],
   "source": [
    "# Set state\n",
    "state='NY'\n",
    "\n",
    "# Select the state of Pennsylvania\n",
    "df_state=df_sel.loc[df_sel.State==state]\n",
    "df_state.drop('State',axis=1, inplace=True)\n",
    "df_state.info()"
   ]
  },
  {
   "cell_type": "code",
   "execution_count": 19,
   "metadata": {},
   "outputs": [
    {
     "data": {
      "text/plain": [
       "2.0    44002\n",
       "3.0    36056\n",
       "4.0       42\n",
       "1.0       19\n",
       "Name: Severity, dtype: int64"
      ]
     },
     "execution_count": 19,
     "metadata": {},
     "output_type": "execute_result"
    }
   ],
   "source": [
    "# Check how many groups of severity and the number of accidents in each group \n",
    "df_state.Severity.value_counts().sort_values(ascending=False)"
   ]
  },
  {
   "cell_type": "code",
   "execution_count": 20,
   "metadata": {
    "scrolled": false
   },
   "outputs": [
    {
     "data": {
      "image/png": "[encoded data removed]",
      "text/plain": [
       "<Figure size 432x288 with 1 Axes>"
      ]
     },
     "metadata": {
      "needs_background": "light"
     },
     "output_type": "display_data"
    }
   ],
   "source": [
    "# Map of accidents, color code by county\n",
    "\n",
    "sns.scatterplot(x='Start_Lng', y='Start_Lat', data=df_state, hue='County', legend=False, s=20)\n",
    "plt.show()"
   ]
  },
  {
   "cell_type": "markdown",
   "metadata": {},
   "source": [
    "### Step 8. Deal with categorical data: pd.get_dummies()\n"
   ]
  },
  {
   "cell_type": "code",
   "execution_count": 21,
   "metadata": {},
   "outputs": [
    {
     "name": "stdout",
     "output_type": "stream",
     "text": [
      "<class 'pandas.core.frame.DataFrame'>\n",
      "Int64Index: 80119 entries, 194256 to 1724935\n",
      "Columns: 991 entries, TMC to Weekday_Wed\n",
      "dtypes: float64(24), uint8(967)\n",
      "memory usage: 89.2 MB\n"
     ]
    }
   ],
   "source": [
    "# Generate dummies for categorical data\n",
    "df_state_dummy = pd.get_dummies(df_state,drop_first=True)\n",
    "\n",
    "# Export data\n",
    "df_state_dummy.to_csv('./US_Accidents_May19_{}_dummy.csv'.format(state),index=False)\n",
    "\n",
    "df_state_dummy.info()"
   ]
  },
  {
   "cell_type": "markdown",
   "metadata": {},
   "source": [
    "### Step 9. Predict the accident severity with various supervised machine learning algorithms\n",
    "\n",
    "#### Data preparation: train_test_split"
   ]
  },
  {
   "cell_type": "code",
   "execution_count": 22,
   "metadata": {},
   "outputs": [],
   "source": [
    "# Assign the data\n",
    "df=df_state_dummy\n",
    "\n",
    "\n",
    "# Set the target for the prediction\n",
    "target='Severity'\n",
    "\n",
    "\n",
    "\n",
    "# Create arrays for the features and the response variable\n",
    "\n",
    "# set X and y\n",
    "y = df[target]\n",
    "X = df.drop(target, axis=1)"
   ]
  },
  {
   "cell_type": "code",
   "execution_count": 23,
   "metadata": {},
   "outputs": [
    {
     "data": {
      "text/plain": [
       "array([3., 2., 4., 1.])"
      ]
     },
     "execution_count": 23,
     "metadata": {},
     "output_type": "execute_result"
    }
   ],
   "source": [
    "y.unique()"
   ]
  },
  {
   "cell_type": "code",
   "execution_count": 24,
   "metadata": {},
   "outputs": [
    {
     "data": {
      "text/plain": [
       "2.0    44002\n",
       "3.0    36056\n",
       "4.0       42\n",
       "1.0       19\n",
       "Name: Severity, dtype: int64"
      ]
     },
     "execution_count": 24,
     "metadata": {},
     "output_type": "execute_result"
    }
   ],
   "source": [
    "y.value_counts()"
   ]
  },
  {
   "cell_type": "code",
   "execution_count": 25,
   "metadata": {},
   "outputs": [],
   "source": [
    "# Split the data set into training and testing data sets\n",
    "X_train, X_test, y_train, y_test = train_test_split(X, y, test_size=0.2, random_state=21, stratify=y)"
   ]
  },
  {
   "cell_type": "code",
   "execution_count": 26,
   "metadata": {},
   "outputs": [],
   "source": [
    "# List of classification algorithms\n",
    "algo_lst=['Logistic Regression',' K-Nearest Neighbors','Decision Trees','Random Forest']\n",
    "\n",
    "# Initialize an empty list for the accuracy for each algorithm\n",
    "accuracy_lst=[]"
   ]
  },
  {
   "cell_type": "markdown",
   "metadata": {},
   "source": [
    "### Step 9. Predict the accident severity with various supervised machine learning algorithms\n",
    "\n",
    "   #### Algorithm A. Logistic regression              "
   ]
  },
  {
   "cell_type": "code",
   "execution_count": 27,
   "metadata": {},
   "outputs": [
    {
     "name": "stderr",
     "output_type": "stream",
     "text": [
      "C:\\Users\\rzhou11\\AppData\\Local\\Continuum\\anaconda3\\lib\\site-packages\\sklearn\\linear_model\\logistic.py:432: FutureWarning: Default solver will be changed to 'lbfgs' in 0.22. Specify a solver to silence this warning.\n",
      "  FutureWarning)\n",
      "C:\\Users\\rzhou11\\AppData\\Local\\Continuum\\anaconda3\\lib\\site-packages\\sklearn\\linear_model\\logistic.py:469: FutureWarning: Default multi_class will be changed to 'auto' in 0.22. Specify the multi_class option to silence this warning.\n",
      "  \"this warning.\", FutureWarning)\n"
     ]
    },
    {
     "name": "stdout",
     "output_type": "stream",
     "text": [
      "[Logistic regression algorithm] accuracy_score: 0.839.\n"
     ]
    },
    {
     "name": "stderr",
     "output_type": "stream",
     "text": [
      "C:\\Users\\rzhou11\\AppData\\Local\\Continuum\\anaconda3\\lib\\site-packages\\sklearn\\svm\\base.py:929: ConvergenceWarning: Liblinear failed to converge, increase the number of iterations.\n",
      "  \"the number of iterations.\", ConvergenceWarning)\n"
     ]
    }
   ],
   "source": [
    "# Logistic regression\n",
    "lr = LogisticRegression(random_state=0)\n",
    "lr.fit(X_train,y_train)\n",
    "y_pred=lr.predict(X_test)\n",
    "\n",
    "# Get the accuracy score\n",
    "acc=accuracy_score(y_test, y_pred)\n",
    "\n",
    "# Append to the accuracy list\n",
    "accuracy_lst.append(acc)\n",
    "\n",
    "print(\"[Logistic regression algorithm] accuracy_score: {:.3f}.\".format(acc))"
   ]
  },
  {
   "cell_type": "markdown",
   "metadata": {},
   "source": [
    "### Step 9. Predict the accident severity with various supervised machine learning algorithms\n",
    "\n",
    "   #### Algorithm B. The K-Nearest Neighbors (KNN) algorithm\n",
    "   ##### KNN with 6 neighors"
   ]
  },
  {
   "cell_type": "code",
   "execution_count": 28,
   "metadata": {},
   "outputs": [
    {
     "name": "stdout",
     "output_type": "stream",
     "text": [
      "[K-Nearest Neighbors (KNN)] knn.score: 0.636.\n",
      "[K-Nearest Neighbors (KNN)] accuracy_score: 0.636.\n"
     ]
    }
   ],
   "source": [
    "# Create a k-NN classifier with 6 neighbors\n",
    "knn = KNeighborsClassifier(n_neighbors=6)\n",
    "\n",
    "# Fit the classifier to the data\n",
    "knn.fit(X_train,y_train)\n",
    "\n",
    "# Predict the labels for the training data X\n",
    "y_pred = knn.predict(X_test)\n",
    "\n",
    "# Get the accuracy score\n",
    "acc=accuracy_score(y_test, y_pred)\n",
    "\n",
    "# Append to the accuracy list\n",
    "accuracy_lst.append(acc)\n",
    "\n",
    "print('[K-Nearest Neighbors (KNN)] knn.score: {:.3f}.'.format(knn.score(X_test, y_test)))\n",
    "print('[K-Nearest Neighbors (KNN)] accuracy_score: {:.3f}.'.format(acc))"
   ]
  },
  {
   "cell_type": "markdown",
   "metadata": {},
   "source": [
    "### Step 9. Predict the accident severity with various supervised machine learning algorithms\n",
    "\n",
    "   #### Algorithm B. The K-Nearest Neighbors (KNN) algorithm\n",
    "   ##### Optmize the number of neighors: plot the accuracy versus number of neighbors"
   ]
  },
  {
   "cell_type": "markdown",
   "metadata": {
    "scrolled": true
   },
   "source": [
    "# Skip this cell\n",
    "\n",
    "\n",
    "# Setup arrays to store train and test accuracies\n",
    "neighbors = np.arange(1, 9)\n",
    "train_accuracy = np.empty(len(neighbors))\n",
    "test_accuracy = np.empty(len(neighbors))\n",
    "\n",
    "# Loop over different values of k\n",
    "for i, n_neighbor in enumerate(neighbors):\n",
    "    \n",
    "    # Setup a k-NN Classifier with n_neighbor\n",
    "    knn = KNeighborsClassifier(n_neighbors=n_neighbor)\n",
    "\n",
    "    # Fit the classifier to the training data\n",
    "    knn.fit(X_train,y_train)\n",
    "    \n",
    "    #Compute accuracy on the training set\n",
    "    train_accuracy[i] = knn.score(X_train, y_train)\n",
    "\n",
    "    #Compute accuracy on the testing set\n",
    "    test_accuracy[i] = knn.score(X_test, y_test)\n",
    "\n",
    "# Generate plot\n",
    "plt.title('k-NN: Varying Number of Neighbors')\n",
    "plt.plot(neighbors, test_accuracy, label = 'Testing Accuracy')\n",
    "plt.plot(neighbors, train_accuracy, label = 'Training Accuracy')\n",
    "plt.legend()\n",
    "plt.xlabel('Number of Neighbors')\n",
    "plt.ylabel('Accuracy')\n",
    "plt.show()\n",
    "\n"
   ]
  },
  {
   "cell_type": "markdown",
   "metadata": {},
   "source": [
    "### Step 9. Predict the accident severity with various supervised machine learning algorithms\n",
    "\n",
    "   #### Algorithm C. Decision Tree                 "
   ]
  },
  {
   "cell_type": "code",
   "execution_count": 32,
   "metadata": {},
   "outputs": [
    {
     "name": "stdout",
     "output_type": "stream",
     "text": [
      "[Decision Tree -- entropy] accuracy_score: 0.738.\n",
      "[Decision Tree -- gini] accuracy_score: 0.742.\n"
     ]
    }
   ],
   "source": [
    "# Decision tree algorithm\n",
    "\n",
    "# Instantiate dt_entropy, set 'entropy' as the information criterion\n",
    "dt_entropy = DecisionTreeClassifier(max_depth=8, criterion='entropy', random_state=1)\n",
    "\n",
    "\n",
    "# Fit dt_entropy to the training set\n",
    "dt_entropy.fit(X_train, y_train)\n",
    "\n",
    "# Use dt_entropy to predict test set labels\n",
    "y_pred= dt_entropy.predict(X_test)\n",
    "\n",
    "# Evaluate accuracy_entropy\n",
    "accuracy_entropy = accuracy_score(y_test, y_pred)\n",
    "\n",
    "\n",
    "# Print accuracy_entropy\n",
    "print('[Decision Tree -- entropy] accuracy_score: {:.3f}.'.format(accuracy_entropy))\n",
    "\n",
    "\n",
    "\n",
    "# Instantiate dt_gini, set 'gini' as the information criterion\n",
    "dt_gini = DecisionTreeClassifier(max_depth=8, criterion='gini', random_state=1)\n",
    "\n",
    "\n",
    "# Fit dt_entropy to the training set\n",
    "dt_gini.fit(X_train, y_train)\n",
    "\n",
    "# Use dt_entropy to predict test set labels\n",
    "y_pred= dt_gini.predict(X_test)\n",
    "\n",
    "# Evaluate accuracy_entropy\n",
    "accuracy_gini = accuracy_score(y_test, y_pred)\n",
    "\n",
    "# Append to the accuracy list\n",
    "acc=accuracy_gini\n",
    "accuracy_lst.append(acc)\n",
    "\n",
    "# Print accuracy_gini\n",
    "print('[Decision Tree -- gini] accuracy_score: {:.3f}.'.format(accuracy_gini))"
   ]
  },
  {
   "cell_type": "markdown",
   "metadata": {},
   "source": [
    "### Step 9. Predict the accident severity with various supervised machine learning algorithms\n",
    "\n",
    "   #### Algorithm D. Random Forest   \n",
    "   ##### n_estimators=100                 "
   ]
  },
  {
   "cell_type": "code",
   "execution_count": 33,
   "metadata": {},
   "outputs": [
    {
     "name": "stdout",
     "output_type": "stream",
     "text": [
      "[Randon forest algorithm] accuracy_score: 0.896.\n"
     ]
    }
   ],
   "source": [
    "# Random Forest algorithm\n",
    "\n",
    "#Create a Gaussian Classifier\n",
    "clf=RandomForestClassifier(n_estimators=100)\n",
    "\n",
    "#Train the model using the training sets y_pred=clf.predict(X_test)\n",
    "clf.fit(X_train,y_train)\n",
    "\n",
    "y_pred=clf.predict(X_test)\n",
    "\n",
    "\n",
    "# Get the accuracy score\n",
    "acc=accuracy_score(y_test, y_pred)\n",
    "\n",
    "# Append to the accuracy list\n",
    "accuracy_lst.append(acc)\n",
    "\n",
    "\n",
    "# Model Accuracy, how often is the classifier correct?\n",
    "print(\"[Randon forest algorithm] accuracy_score: {:.3f}.\".format(acc))\n"
   ]
  },
  {
   "cell_type": "markdown",
   "metadata": {},
   "source": [
    "### Step 9. Predict the accident severity with various supervised machine learning algorithms\n",
    "\n",
    "   #### Algorithm D. Random Forest   \n",
    "   ##### Visualize important features      "
   ]
  },
  {
   "cell_type": "code",
   "execution_count": 34,
   "metadata": {},
   "outputs": [
    {
     "name": "stderr",
     "output_type": "stream",
     "text": [
      "No handles with labels found to put in legend.\n"
     ]
    },
    {
     "data": {
      "image/png": "[encoded data removed]",
      "text/plain": [
       "<Figure size 432x288 with 1 Axes>"
      ]
     },
     "metadata": {
      "needs_background": "light"
     },
     "output_type": "display_data"
    }
   ],
   "source": [
    "feature_imp = pd.Series(clf.feature_importances_,index=X.columns).sort_values(ascending=False)\n",
    "\n",
    "# Creating a bar plot, displaying only the top k features\n",
    "k=10\n",
    "sns.barplot(x=feature_imp[:10], y=feature_imp.index[:k])\n",
    "# Add labels to your graph\n",
    "plt.xlabel('Feature Importance Score')\n",
    "plt.ylabel('Features')\n",
    "plt.title(\"Visualizing Important Features\")\n",
    "plt.legend()\n",
    "plt.show()"
   ]
  },
  {
   "cell_type": "code",
   "execution_count": 35,
   "metadata": {
    "scrolled": true
   },
   "outputs": [
    {
     "data": {
      "text/plain": [
       "Start_Lat             0.109805\n",
       "Start_Lng             0.096891\n",
       "Side_R                0.043788\n",
       "Distance(mi)          0.041580\n",
       "Hour                  0.040546\n",
       "Temperature(F)        0.036880\n",
       "Pressure(in)          0.036074\n",
       "Humidity(%)           0.035645\n",
       "Time_Duration(min)    0.026018\n",
       "Traffic_Signal        0.020708\n",
       "TMC                   0.017617\n",
       "County_Monroe         0.016261\n",
       "City_Albany           0.014394\n",
       "Visibility(mi)        0.012798\n",
       "County_Suffolk        0.011288\n",
       "City_Bronx            0.009678\n",
       "County_Erie           0.009517\n",
       "County_Bronx          0.008838\n",
       "City_Rochester        0.008729\n",
       "County_Nassau         0.008596\n",
       "dtype: float64"
      ]
     },
     "execution_count": 35,
     "metadata": {},
     "output_type": "execute_result"
    }
   ],
   "source": [
    "# List top k important features\n",
    "k=20\n",
    "feature_imp.sort_values(ascending=False)[:k]"
   ]
  },
  {
   "cell_type": "markdown",
   "metadata": {},
   "source": [
    "### Step 9. Predict the accident severity with various supervised machine learning algorithms\n",
    "\n",
    "   #### Algorithm D. Random Forest   \n",
    "   ##### Select the top important features, set the threshold      "
   ]
  },
  {
   "cell_type": "code",
   "execution_count": 36,
   "metadata": {},
   "outputs": [
    {
     "name": "stdout",
     "output_type": "stream",
     "text": [
      "Start_Lng\n",
      "Start_Lat\n",
      "Distance(mi)\n",
      "Temperature(F)\n",
      "Humidity(%)\n",
      "Pressure(in)\n",
      "Hour\n",
      "Side_R\n"
     ]
    }
   ],
   "source": [
    "# Create a selector object that will use the random forest classifier to identify\n",
    "# features that have an importance of more than 0.03\n",
    "sfm = SelectFromModel(clf, threshold=0.03)\n",
    "\n",
    "# Train the selector\n",
    "sfm.fit(X_train, y_train)\n",
    "\n",
    "feat_labels=X.columns\n",
    "\n",
    "# Print the names of the most important features\n",
    "for feature_list_index in sfm.get_support(indices=True):\n",
    "    print(feat_labels[feature_list_index])"
   ]
  },
  {
   "cell_type": "code",
   "execution_count": 37,
   "metadata": {},
   "outputs": [
    {
     "data": {
      "text/plain": [
       "RandomForestClassifier(bootstrap=True, class_weight=None, criterion='gini',\n",
       "                       max_depth=None, max_features='auto', max_leaf_nodes=None,\n",
       "                       min_impurity_decrease=0.0, min_impurity_split=None,\n",
       "                       min_samples_leaf=1, min_samples_split=2,\n",
       "                       min_weight_fraction_leaf=0.0, n_estimators=100,\n",
       "                       n_jobs=-1, oob_score=False, random_state=0, verbose=0,\n",
       "                       warm_start=False)"
      ]
     },
     "execution_count": 37,
     "metadata": {},
     "output_type": "execute_result"
    }
   ],
   "source": [
    "# Transform the data to create a new dataset containing only the most important features\n",
    "# Note: We have to apply the transform to both the training X and test X data.\n",
    "X_important_train = sfm.transform(X_train)\n",
    "X_important_test = sfm.transform(X_test)\n",
    "\n",
    "# Create a new random forest classifier for the most important features\n",
    "clf_important = RandomForestClassifier(n_estimators=100, random_state=0, n_jobs=-1)\n",
    "\n",
    "# Train the new classifier on the new dataset containing the most important features\n",
    "clf_important.fit(X_important_train, y_train)"
   ]
  },
  {
   "cell_type": "code",
   "execution_count": 38,
   "metadata": {
    "scrolled": true
   },
   "outputs": [
    {
     "name": "stdout",
     "output_type": "stream",
     "text": [
      "[Randon forest algorithm -- Full feature] accuracy_score: 0.896.\n",
      "[Randon forest algorithm -- Limited feature] accuracy_score: 0.883.\n"
     ]
    }
   ],
   "source": [
    "# Apply The Full Featured Classifier To The Test Data\n",
    "y_pred = clf.predict(X_test)\n",
    "\n",
    "# View The Accuracy Of Our Full Feature Model\n",
    "print('[Randon forest algorithm -- Full feature] accuracy_score: {:.3f}.'.format(accuracy_score(y_test, y_pred)))\n",
    "\n",
    "# Apply The Full Featured Classifier To The Test Data\n",
    "y_important_pred = clf_important.predict(X_important_test)\n",
    "\n",
    "# View The Accuracy Of Our Limited Feature Model\n",
    "print('[Randon forest algorithm -- Limited feature] accuracy_score: {:.3f}.'.format(accuracy_score(y_test, y_important_pred)))"
   ]
  },
  {
   "cell_type": "markdown",
   "metadata": {},
   "source": [
    "### Step 9. Predict the accident severity with various supervised machine learning algorithms\n",
    "\n",
    "#### Plot the accuracy score versus algorithm"
   ]
  },
  {
   "cell_type": "code",
   "execution_count": 39,
   "metadata": {},
   "outputs": [
    {
     "data": {
      "image/png": "[encoded data removed]",
      "text/plain": [
       "<Figure size 432x288 with 1 Axes>"
      ]
     },
     "metadata": {
      "needs_background": "light"
     },
     "output_type": "display_data"
    }
   ],
   "source": [
    "# Make a plot of the accuracy scores for different algorithms\n",
    "\n",
    "# Generate a list of ticks for y-axis\n",
    "y_ticks=np.arange(len(algo_lst))\n",
    "\n",
    "# Combine the list of algorithms and list of accuracy scores into a dataframe, sort the value based on accuracy score\n",
    "df_acc=pd.DataFrame(list(zip(algo_lst, accuracy_lst)), columns=['Algorithm','Accuracy_Score']).sort_values(by=['Accuracy_Score'],ascending = True)\n",
    "\n",
    "# Export to a file\n",
    "df_acc.to_csv('./Accuracy_scores_algorithms_{}.csv'.format(state),index=False)\n",
    "\n",
    "# Make a plot\n",
    "ax=df_acc.plot.barh('Algorithm', 'Accuracy_Score', align='center',legend=False,color='0.5')\n",
    "\n",
    "# Add the data label on to the plot\n",
    "for i in ax.patches:\n",
    "    # get_width pulls left or right; get_y pushes up or down\n",
    "    ax.text(i.get_width()+0.02, i.get_y()+0.2, str(round(i.get_width(),2)), fontsize=10)\n",
    "\n",
    "# Set the limit, lables, ticks and title\n",
    "plt.xlim(0,1.05)\n",
    "plt.xlabel('Accuracy Score')\n",
    "plt.yticks(y_ticks, df_acc['Algorithm'], rotation=0)\n",
    "plt.title('[{}] Which algorithm is better?'.format(state))\n",
    "\n",
    "plt.show()"
   ]
  }
 ],
 "metadata": {
  "kernelspec": {
   "display_name": "Python 3",
   "language": "python",
   "name": "python3"
  },
  "language_info": {
   "codemirror_mode": {
    "name": "ipython",
    "version": 3
   },
   "file_extension": ".py",
   "mimetype": "text/x-python",
   "name": "python",
   "nbconvert_exporter": "python",
   "pygments_lexer": "ipython3",
   "version": "3.7.4"
  }
 },
 "nbformat": 4,
 "nbformat_minor": 2
}
