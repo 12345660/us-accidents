{
 "cells": [
  {
   "cell_type": "markdown",
   "metadata": {},
   "source": [
    "# How you can drive safely in 2020\n",
    "\n",
    "\n",
    "## KNN Classification\n"
   ]
  },
  {
   "cell_type": "code",
   "execution_count": 2,
   "metadata": {
    "scrolled": true
   },
   "outputs": [],
   "source": [
    "# Import numpy, pandas, matpltlib.pyplot, sklearn modules and seaborn\n",
    "import numpy as np\n",
    "import pandas as pd\n",
    "import matplotlib.pyplot as plt\n",
    "import seaborn as sns\n",
    "%matplotlib inline\n",
    "pd.set_option('display.max_rows', 200)\n",
    "pd.set_option('display.max_columns', 200)\n",
    "plt.style.use('ggplot')\n",
    "\n",
    "# Import KNeighborsClassifier from sklearn.neighbors\n",
    "from sklearn.neighbors import KNeighborsClassifier\n",
    "from sklearn.model_selection import train_test_split\n",
    "from sklearn.metrics import classification_report\n",
    "from sklearn.metrics import confusion_matrix\n"
   ]
  },
  {
   "cell_type": "code",
   "execution_count": 2,
   "metadata": {
    "scrolled": true
   },
   "outputs": [
    {
     "name": "stdout",
     "output_type": "stream",
     "text": [
      "<class 'pandas.core.frame.DataFrame'>\n",
      "RangeIndex: 2243939 entries, 0 to 2243938\n",
      "Data columns (total 49 columns):\n",
      "ID                       object\n",
      "Source                   object\n",
      "TMC                      float64\n",
      "Severity                 int64\n",
      "Start_Time               datetime64[ns]\n",
      "End_Time                 datetime64[ns]\n",
      "Start_Lat                float64\n",
      "Start_Lng                float64\n",
      "End_Lat                  float64\n",
      "End_Lng                  float64\n",
      "Distance(mi)             float64\n",
      "Description              object\n",
      "Number                   float64\n",
      "Street                   object\n",
      "Side                     object\n",
      "City                     object\n",
      "County                   object\n",
      "State                    object\n",
      "Zipcode                  object\n",
      "Country                  object\n",
      "Timezone                 object\n",
      "Airport_Code             object\n",
      "Weather_Timestamp        object\n",
      "Temperature(F)           float64\n",
      "Wind_Chill(F)            float64\n",
      "Humidity(%)              float64\n",
      "Pressure(in)             float64\n",
      "Visibility(mi)           float64\n",
      "Wind_Direction           object\n",
      "Wind_Speed(mph)          float64\n",
      "Precipitation(in)        float64\n",
      "Weather_Condition        object\n",
      "Amenity                  bool\n",
      "Bump                     bool\n",
      "Crossing                 bool\n",
      "Give_Way                 bool\n",
      "Junction                 bool\n",
      "No_Exit                  bool\n",
      "Railway                  bool\n",
      "Roundabout               bool\n",
      "Station                  bool\n",
      "Stop                     bool\n",
      "Traffic_Calming          bool\n",
      "Traffic_Signal           bool\n",
      "Turning_Loop             bool\n",
      "Sunrise_Sunset           object\n",
      "Civil_Twilight           object\n",
      "Nautical_Twilight        object\n",
      "Astronomical_Twilight    object\n",
      "dtypes: bool(13), datetime64[ns](2), float64(14), int64(1), object(19)\n",
      "memory usage: 644.1+ MB\n"
     ]
    }
   ],
   "source": [
    "# read the survey results, slice the states of interests, and display the first 5 rows\n",
    "df = pd.read_csv('./US_Accidents_May19.csv')\n",
    "df['Start_Time'] = pd.to_datetime(df['Start_Time'], errors='coerce')\n",
    "df['End_Time'] = pd.to_datetime(df['End_Time'], errors='coerce')\n",
    "df.info()"
   ]
  },
  {
   "cell_type": "code",
   "execution_count": 3,
   "metadata": {},
   "outputs": [
    {
     "name": "stdout",
     "output_type": "stream",
     "text": [
      "<class 'pandas.core.frame.DataFrame'>\n",
      "RangeIndex: 2243939 entries, 0 to 2243938\n",
      "Data columns (total 55 columns):\n",
      "ID                       object\n",
      "Source                   object\n",
      "TMC                      float64\n",
      "Severity                 int64\n",
      "Start_Time               datetime64[ns]\n",
      "End_Time                 datetime64[ns]\n",
      "Start_Lat                float64\n",
      "Start_Lng                float64\n",
      "End_Lat                  float64\n",
      "End_Lng                  float64\n",
      "Distance(mi)             float64\n",
      "Description              object\n",
      "Number                   float64\n",
      "Street                   object\n",
      "Side                     object\n",
      "City                     object\n",
      "County                   object\n",
      "State                    object\n",
      "Zipcode                  object\n",
      "Country                  object\n",
      "Timezone                 object\n",
      "Airport_Code             object\n",
      "Weather_Timestamp        object\n",
      "Temperature(F)           float64\n",
      "Wind_Chill(F)            float64\n",
      "Humidity(%)              float64\n",
      "Pressure(in)             float64\n",
      "Visibility(mi)           float64\n",
      "Wind_Direction           object\n",
      "Wind_Speed(mph)          float64\n",
      "Precipitation(in)        float64\n",
      "Weather_Condition        object\n",
      "Amenity                  bool\n",
      "Bump                     bool\n",
      "Crossing                 bool\n",
      "Give_Way                 bool\n",
      "Junction                 bool\n",
      "No_Exit                  bool\n",
      "Railway                  bool\n",
      "Roundabout               bool\n",
      "Station                  bool\n",
      "Stop                     bool\n",
      "Traffic_Calming          bool\n",
      "Traffic_Signal           bool\n",
      "Turning_Loop             bool\n",
      "Sunrise_Sunset           object\n",
      "Civil_Twilight           object\n",
      "Nautical_Twilight        object\n",
      "Astronomical_Twilight    object\n",
      "Year                     int64\n",
      "Month                    object\n",
      "Day                      int64\n",
      "Hour                     int64\n",
      "Weekday                  object\n",
      "Time_Duration(min)       float64\n",
      "dtypes: bool(13), datetime64[ns](2), float64(15), int64(4), object(21)\n",
      "memory usage: 746.9+ MB\n"
     ]
    }
   ],
   "source": [
    "# Convert Start_Time and End_Time to datetypes\n",
    "df['Start_Time'] = pd.to_datetime(df['Start_Time'], errors='coerce')\n",
    "df['End_Time'] = pd.to_datetime(df['End_Time'], errors='coerce')\n",
    "\n",
    "# Extract year, month, day, hour, weekday and time_duration information\n",
    "df['Year']=df['Start_Time'].dt.year\n",
    "df['Month']=df['Start_Time'].dt.strftime('%b')\n",
    "df['Day']=df['Start_Time'].dt.day\n",
    "df['Hour']=df['Start_Time'].dt.hour\n",
    "df['Weekday']=df['Start_Time'].dt.strftime('%a')\n",
    "\n",
    "# Extract the amount of time in the unit of minutes for each accident, round to the nearest integer\n",
    "td='Time_Duration(min)'\n",
    "df[td]=round((df['End_Time']-df['Start_Time'])/np.timedelta64(1,'m'))\n",
    "df.info()"
   ]
  },
  {
   "cell_type": "code",
   "execution_count": 3,
   "metadata": {},
   "outputs": [
    {
     "ename": "NameError",
     "evalue": "name 'df' is not defined",
     "output_type": "error",
     "traceback": [
      "\u001b[1;31m---------------------------------------------------------------------------\u001b[0m",
      "\u001b[1;31mNameError\u001b[0m                                 Traceback (most recent call last)",
      "\u001b[1;32m<ipython-input-3-508f0751265a>\u001b[0m in \u001b[0;36m<module>\u001b[1;34m\u001b[0m\n\u001b[1;32m----> 1\u001b[1;33m \u001b[0mdf\u001b[0m\u001b[1;33m.\u001b[0m\u001b[0mto_csv\u001b[0m\u001b[1;33m(\u001b[0m\u001b[1;34m'./Expanded_May19.csv'\u001b[0m\u001b[1;33m)\u001b[0m\u001b[1;33m\u001b[0m\u001b[1;33m\u001b[0m\u001b[0m\n\u001b[0m",
      "\u001b[1;31mNameError\u001b[0m: name 'df' is not defined"
     ]
    }
   ],
   "source": [
    "df.to_csv('./Expanded_May19.csv')"
   ]
  },
  {
   "cell_type": "code",
   "execution_count": 23,
   "metadata": {},
   "outputs": [],
   "source": [
    "df=pd.read_csv('./Expanded_May19.csv')"
   ]
  },
  {
   "cell_type": "code",
   "execution_count": 24,
   "metadata": {},
   "outputs": [],
   "source": [
    "feature_lst=['Source','TMC','Severity','Start_Lng','Start_Lat','Distance(mi)','Side','City','County','State','Timezone','Temperature(F)','Humidity(%)','Pressure(in)', 'Visibility(mi)', 'Wind_Direction','Weather_Condition','Amenity','Bump','Crossing','Give_Way','Junction','No_Exit','Railway','Roundabout','Station','Stop','Traffic_Calming','Traffic_Signal','Turning_Loop','Sunrise_Sunset',]"
   ]
  },
  {
   "cell_type": "code",
   "execution_count": 25,
   "metadata": {
    "scrolled": true
   },
   "outputs": [
    {
     "name": "stdout",
     "output_type": "stream",
     "text": [
      "<class 'pandas.core.frame.DataFrame'>\n",
      "RangeIndex: 2243939 entries, 0 to 2243938\n",
      "Data columns (total 31 columns):\n",
      "Source               object\n",
      "TMC                  float64\n",
      "Severity             int64\n",
      "Start_Lng            float64\n",
      "Start_Lat            float64\n",
      "Distance(mi)         float64\n",
      "Side                 object\n",
      "City                 object\n",
      "County               object\n",
      "State                object\n",
      "Timezone             object\n",
      "Temperature(F)       float64\n",
      "Humidity(%)          float64\n",
      "Pressure(in)         float64\n",
      "Visibility(mi)       float64\n",
      "Wind_Direction       object\n",
      "Weather_Condition    object\n",
      "Amenity              bool\n",
      "Bump                 bool\n",
      "Crossing             bool\n",
      "Give_Way             bool\n",
      "Junction             bool\n",
      "No_Exit              bool\n",
      "Railway              bool\n",
      "Roundabout           bool\n",
      "Station              bool\n",
      "Stop                 bool\n",
      "Traffic_Calming      bool\n",
      "Traffic_Signal       bool\n",
      "Turning_Loop         bool\n",
      "Sunrise_Sunset       object\n",
      "dtypes: bool(13), float64(8), int64(1), object(9)\n",
      "memory usage: 336.0+ MB\n"
     ]
    }
   ],
   "source": [
    "df=df[feature_lst]\n",
    "df.info()"
   ]
  },
  {
   "cell_type": "code",
   "execution_count": 26,
   "metadata": {},
   "outputs": [],
   "source": [
    "df.to_csv('./Expanded_dropped_May19.csv')"
   ]
  },
  {
   "cell_type": "code",
   "execution_count": 27,
   "metadata": {},
   "outputs": [
    {
     "name": "stdout",
     "output_type": "stream",
     "text": [
      "<class 'pandas.core.frame.DataFrame'>\n",
      "Int64Index: 75814 entries, 197866 to 2243539\n",
      "Data columns (total 30 columns):\n",
      "Source               75814 non-null object\n",
      "TMC                  65699 non-null float64\n",
      "Severity             75814 non-null int64\n",
      "Start_Lng            75814 non-null float64\n",
      "Start_Lat            75814 non-null float64\n",
      "Distance(mi)         75814 non-null float64\n",
      "Side                 75814 non-null object\n",
      "City                 75814 non-null object\n",
      "County               75814 non-null object\n",
      "Timezone             75804 non-null object\n",
      "Temperature(F)       73419 non-null float64\n",
      "Humidity(%)          73322 non-null float64\n",
      "Pressure(in)         73724 non-null float64\n",
      "Visibility(mi)       73323 non-null float64\n",
      "Wind_Direction       73787 non-null object\n",
      "Weather_Condition    73327 non-null object\n",
      "Amenity              75814 non-null bool\n",
      "Bump                 75814 non-null bool\n",
      "Crossing             75814 non-null bool\n",
      "Give_Way             75814 non-null bool\n",
      "Junction             75814 non-null bool\n",
      "No_Exit              75814 non-null bool\n",
      "Railway              75814 non-null bool\n",
      "Roundabout           75814 non-null bool\n",
      "Station              75814 non-null bool\n",
      "Stop                 75814 non-null bool\n",
      "Traffic_Calming      75814 non-null bool\n",
      "Traffic_Signal       75814 non-null bool\n",
      "Turning_Loop         75814 non-null bool\n",
      "Sunrise_Sunset       75812 non-null object\n",
      "dtypes: bool(13), float64(8), int64(1), object(8)\n",
      "memory usage: 11.4+ MB\n"
     ]
    }
   ],
   "source": [
    "df_PA=df[df.State=='PA']\n",
    "df_PA.drop('State',axis=1, inplace=True)\n",
    "df_PA.info()"
   ]
  },
  {
   "cell_type": "code",
   "execution_count": 29,
   "metadata": {},
   "outputs": [],
   "source": [
    "df_PA.to_csv('./Expanded_dropped_May19_PA.csv')"
   ]
  },
  {
   "cell_type": "code",
   "execution_count": 30,
   "metadata": {},
   "outputs": [
    {
     "name": "stdout",
     "output_type": "stream",
     "text": [
      "<class 'pandas.core.frame.DataFrame'>\n",
      "Int64Index: 26953 entries, 228554 to 2242978\n",
      "Data columns (total 29 columns):\n",
      "Source               26953 non-null object\n",
      "TMC                  26044 non-null float64\n",
      "Severity             26953 non-null int64\n",
      "Start_Lng            26953 non-null float64\n",
      "Start_Lat            26953 non-null float64\n",
      "Distance(mi)         26953 non-null float64\n",
      "Side                 26953 non-null object\n",
      "City                 26953 non-null object\n",
      "Timezone             26953 non-null object\n",
      "Temperature(F)       26423 non-null float64\n",
      "Humidity(%)          26408 non-null float64\n",
      "Pressure(in)         26563 non-null float64\n",
      "Visibility(mi)       26362 non-null float64\n",
      "Wind_Direction       26572 non-null object\n",
      "Weather_Condition    26355 non-null object\n",
      "Amenity              26953 non-null bool\n",
      "Bump                 26953 non-null bool\n",
      "Crossing             26953 non-null bool\n",
      "Give_Way             26953 non-null bool\n",
      "Junction             26953 non-null bool\n",
      "No_Exit              26953 non-null bool\n",
      "Railway              26953 non-null bool\n",
      "Roundabout           26953 non-null bool\n",
      "Station              26953 non-null bool\n",
      "Stop                 26953 non-null bool\n",
      "Traffic_Calming      26953 non-null bool\n",
      "Traffic_Signal       26953 non-null bool\n",
      "Turning_Loop         26953 non-null bool\n",
      "Sunrise_Sunset       26953 non-null object\n",
      "dtypes: bool(13), float64(8), int64(1), object(7)\n",
      "memory usage: 3.8+ MB\n"
     ]
    }
   ],
   "source": [
    "df_PA_Mont=df_PA[df_PA.County=='Montgomery']\n",
    "df_PA_Mont.drop('County',axis=1,inplace=True)\n",
    "df_PA_Mont.info()"
   ]
  },
  {
   "cell_type": "code",
   "execution_count": 31,
   "metadata": {},
   "outputs": [],
   "source": [
    "df_PA_Mont.to_csv('./Expanded_dropped_May19_PA_Mont.csv')"
   ]
  },
  {
   "cell_type": "code",
   "execution_count": 34,
   "metadata": {},
   "outputs": [
    {
     "data": {
      "text/plain": [
       "(26953, 29)"
      ]
     },
     "execution_count": 34,
     "metadata": {},
     "output_type": "execute_result"
    }
   ],
   "source": [
    "df_PA_Mont.shape"
   ]
  },
  {
   "cell_type": "code",
   "execution_count": 37,
   "metadata": {},
   "outputs": [
    {
     "data": {
      "text/plain": [
       "Index(['TMC', 'Temperature(F)', 'Humidity(%)', 'Pressure(in)',\n",
       "       'Visibility(mi)', 'Wind_Direction', 'Weather_Condition'],\n",
       "      dtype='object')"
      ]
     },
     "execution_count": 37,
     "metadata": {},
     "output_type": "execute_result"
    }
   ],
   "source": [
    "df_PA_Mont.columns[df_PA_Mont.isnull().mean()!=0]"
   ]
  },
  {
   "cell_type": "code",
   "execution_count": 41,
   "metadata": {
    "scrolled": true
   },
   "outputs": [
    {
     "name": "stderr",
     "output_type": "stream",
     "text": [
      "C:\\Users\\rzhou11\\AppData\\Local\\Continuum\\anaconda3\\lib\\site-packages\\ipykernel_launcher.py:1: SettingWithCopyWarning: \n",
      "A value is trying to be set on a copy of a slice from a DataFrame\n",
      "\n",
      "See the caveats in the documentation: http://pandas.pydata.org/pandas-docs/stable/user_guide/indexing.html#returning-a-view-versus-a-copy\n",
      "  \"\"\"Entry point for launching an IPython kernel.\n"
     ]
    },
    {
     "data": {
      "text/plain": [
       "(25206, 29)"
      ]
     },
     "execution_count": 41,
     "metadata": {},
     "output_type": "execute_result"
    }
   ],
   "source": [
    "df_PA_Mont.dropna(subset=df_PA_Mont.columns[df_PA_Mont.isnull().mean()!=0],axis=0,inplace=True)\n",
    "df_PA_Mont.shape"
   ]
  },
  {
   "cell_type": "code",
   "execution_count": 43,
   "metadata": {},
   "outputs": [
    {
     "name": "stdout",
     "output_type": "stream",
     "text": [
      "<class 'pandas.core.frame.DataFrame'>\n",
      "Int64Index: 25206 entries, 228554 to 1724934\n",
      "Data columns (total 29 columns):\n",
      "Source               25206 non-null object\n",
      "TMC                  25206 non-null float64\n",
      "Severity             25206 non-null int64\n",
      "Start_Lng            25206 non-null float64\n",
      "Start_Lat            25206 non-null float64\n",
      "Distance(mi)         25206 non-null float64\n",
      "Side                 25206 non-null object\n",
      "City                 25206 non-null object\n",
      "Timezone             25206 non-null object\n",
      "Temperature(F)       25206 non-null float64\n",
      "Humidity(%)          25206 non-null float64\n",
      "Pressure(in)         25206 non-null float64\n",
      "Visibility(mi)       25206 non-null float64\n",
      "Wind_Direction       25206 non-null object\n",
      "Weather_Condition    25206 non-null object\n",
      "Amenity              25206 non-null bool\n",
      "Bump                 25206 non-null bool\n",
      "Crossing             25206 non-null bool\n",
      "Give_Way             25206 non-null bool\n",
      "Junction             25206 non-null bool\n",
      "No_Exit              25206 non-null bool\n",
      "Railway              25206 non-null bool\n",
      "Roundabout           25206 non-null bool\n",
      "Station              25206 non-null bool\n",
      "Stop                 25206 non-null bool\n",
      "Traffic_Calming      25206 non-null bool\n",
      "Traffic_Signal       25206 non-null bool\n",
      "Turning_Loop         25206 non-null bool\n",
      "Sunrise_Sunset       25206 non-null object\n",
      "dtypes: bool(13), float64(8), int64(1), object(7)\n",
      "memory usage: 3.6+ MB\n"
     ]
    }
   ],
   "source": [
    "df_PA_Mont.info()"
   ]
  },
  {
   "cell_type": "code",
   "execution_count": 45,
   "metadata": {},
   "outputs": [
    {
     "name": "stdout",
     "output_type": "stream",
     "text": [
      "<class 'pandas.core.frame.DataFrame'>\n",
      "Int64Index: 25206 entries, 228554 to 1724934\n",
      "Columns: 133 entries, TMC to Sunrise_Sunset_Night\n",
      "dtypes: bool(13), float64(8), int64(1), uint8(111)\n",
      "memory usage: 4.9 MB\n"
     ]
    }
   ],
   "source": [
    "df_PA_Mont_dummy = pd.get_dummies(df_PA_Mont,drop_first=True)\n",
    "df_PA_Mont_dummy.info()\n"
   ]
  },
  {
   "cell_type": "code",
   "execution_count": 47,
   "metadata": {},
   "outputs": [],
   "source": [
    "df_PA_Mont_dummy.to_csv('./Expanded_dropped_dummy_May19_PA_Mont.csv')"
   ]
  },
  {
   "cell_type": "code",
   "execution_count": 52,
   "metadata": {},
   "outputs": [
    {
     "name": "stdout",
     "output_type": "stream",
     "text": [
      "0.9381116106850039\n",
      "0.9381116106850039\n"
     ]
    }
   ],
   "source": [
    "target='Severity'\n",
    "# Create arrays for the features and the response variable\n",
    "df=df_PA_Mont_dummy\n",
    "\n",
    "y = df[target]\n",
    "X = df.drop(target, axis=1)\n",
    "\n",
    "X_train, X_test, y_train, y_test = train_test_split(X, y, test_size=0.3, random_state=21, stratify=y)\n",
    "\n",
    "\n",
    "# Create a k-NN classifier with 6 neighbors\n",
    "knn = KNeighborsClassifier(n_neighbors=6)\n",
    "\n",
    "# Fit the classifier to the data\n",
    "knn.fit(X_train,y_train)\n",
    "\n",
    "# Predict the labels for the training data X\n",
    "y_pred = knn.predict(X_test)\n",
    "\n",
    "print(knn.score(X_test, y_test))\n",
    "\n",
    "from sklearn import metrics\n",
    "\n",
    "print(metrics.accuracy_score(y_test, y_pred))"
   ]
  },
  {
   "cell_type": "code",
   "execution_count": 53,
   "metadata": {},
   "outputs": [
    {
     "data": {
      "image/png": "[encoded data removed]",
      "text/plain": [
       "<Figure size 432x288 with 1 Axes>"
      ]
     },
     "metadata": {
      "needs_background": "light"
     },
     "output_type": "display_data"
    }
   ],
   "source": [
    "# Setup arrays to store train and test accuracies\n",
    "neighbors = np.arange(1, 9)\n",
    "train_accuracy = np.empty(len(neighbors))\n",
    "test_accuracy = np.empty(len(neighbors))\n",
    "\n",
    "# Loop over different values of k\n",
    "for i, k in enumerate(neighbors):\n",
    "    # Setup a k-NN Classifier with k neighbors: knn\n",
    "    knn = KNeighborsClassifier(n_neighbors=k)\n",
    "\n",
    "    # Fit the classifier to the training data\n",
    "    knn.fit(X_train,y_train)\n",
    "    \n",
    "    #Compute accuracy on the training set\n",
    "    train_accuracy[i] = knn.score(X_train, y_train)\n",
    "\n",
    "    #Compute accuracy on the testing set\n",
    "    test_accuracy[i] = knn.score(X_test, y_test)\n",
    "\n",
    "# Generate plot\n",
    "plt.title('k-NN: Varying Number of Neighbors')\n",
    "plt.plot(neighbors, test_accuracy, label = 'Testing Accuracy')\n",
    "plt.plot(neighbors, train_accuracy, label = 'Training Accuracy')\n",
    "plt.legend()\n",
    "plt.xlabel('Number of Neighbors')\n",
    "plt.ylabel('Accuracy')\n",
    "plt.show()\n"
   ]
  },
  {
   "cell_type": "code",
   "execution_count": 55,
   "metadata": {},
   "outputs": [
    {
     "name": "stdout",
     "output_type": "stream",
     "text": [
      "[[   0    2    0    0]\n",
      " [   0 6980   35    0]\n",
      " [   0  430  114    0]\n",
      " [   0    1    0    0]]\n",
      "              precision    recall  f1-score   support\n",
      "\n",
      "           1       0.00      0.00      0.00         2\n",
      "           2       0.94      1.00      0.97      7015\n",
      "           3       0.77      0.21      0.33       544\n",
      "           4       0.00      0.00      0.00         1\n",
      "\n",
      "    accuracy                           0.94      7562\n",
      "   macro avg       0.43      0.30      0.32      7562\n",
      "weighted avg       0.93      0.94      0.92      7562\n",
      "\n"
     ]
    },
    {
     "name": "stderr",
     "output_type": "stream",
     "text": [
      "C:\\Users\\rzhou11\\AppData\\Local\\Continuum\\anaconda3\\lib\\site-packages\\sklearn\\metrics\\classification.py:1437: UndefinedMetricWarning: Precision and F-score are ill-defined and being set to 0.0 in labels with no predicted samples.\n",
      "  'precision', 'predicted', average, warn_for)\n"
     ]
    }
   ],
   "source": [
    "\n",
    "print(confusion_matrix(y_test, y_pred))\n",
    "print(classification_report(y_test, y_pred))\n",
    "      "
   ]
  },
  {
   "cell_type": "code",
   "execution_count": 57,
   "metadata": {},
   "outputs": [
    {
     "name": "stderr",
     "output_type": "stream",
     "text": [
      "C:\\Users\\rzhou11\\AppData\\Local\\Continuum\\anaconda3\\lib\\site-packages\\sklearn\\model_selection\\_split.py:657: Warning: The least populated class in y has only 3 members, which is too few. The minimum number of members in any class cannot be less than n_splits=5.\n",
      "  % (min_groups, self.n_splits)), Warning)\n"
     ]
    },
    {
     "name": "stdout",
     "output_type": "stream",
     "text": [
      "knn_cv.best_params: {'n_neighbors': 6}.\n",
      "knn_cv.best_score_: 0.9351620947630923.\n"
     ]
    }
   ],
   "source": [
    "from sklearn.model_selection import GridSearchCV\n",
    "param_grid = {'n_neighbors': np.arange(1, 50)}\n",
    "knn = KNeighborsClassifier()\n",
    "knn_cv = GridSearchCV(knn, param_grid, cv=5)\n",
    "knn_cv.fit(X_train, y_train)\n",
    "print('knn_cv.best_params: {}.'.format(knn_cv.best_params_))\n",
    "print('knn_cv.best_score_: {}.'.format(knn_cv.best_score_))\n"
   ]
  },
  {
   "cell_type": "code",
   "execution_count": null,
   "metadata": {},
   "outputs": [],
   "source": []
  }
 ],
 "metadata": {
  "kernelspec": {
   "display_name": "Python 3",
   "language": "python",
   "name": "python3"
  },
  "language_info": {
   "codemirror_mode": {
    "name": "ipython",
    "version": 3
   },
   "file_extension": ".py",
   "mimetype": "text/x-python",
   "name": "python",
   "nbconvert_exporter": "python",
   "pygments_lexer": "ipython3",
   "version": "3.7.4"
  }
 },
 "nbformat": 4,
 "nbformat_minor": 2
}
